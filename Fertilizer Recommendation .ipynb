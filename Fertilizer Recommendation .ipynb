{
 "cells": [
  {
   "cell_type": "code",
   "execution_count": 1,
<<<<<<< HEAD
   "id": "10bec37c",
=======
   "id": "08d68c58",
>>>>>>> 102f86fab59c8be60a1f25ba7a540b8787acc933
   "metadata": {},
   "outputs": [],
   "source": [
    "import pandas as pd"
   ]
  },
  {
   "cell_type": "code",
<<<<<<< HEAD
   "execution_count": 2,
   "id": "57d239f0",
=======
   "execution_count": 18,
   "id": "195c58f8",
>>>>>>> 102f86fab59c8be60a1f25ba7a540b8787acc933
   "metadata": {},
   "outputs": [
    {
     "data": {
      "text/plain": [
       "891"
      ]
     },
<<<<<<< HEAD
     "execution_count": 2,
=======
     "execution_count": 18,
>>>>>>> 102f86fab59c8be60a1f25ba7a540b8787acc933
     "metadata": {},
     "output_type": "execute_result"
    }
   ],
   "source": [
    "df2 = pd.read_csv(r\"C:\\Users\\hp\\OneDrive\\Desktop\\My Desktop\\machine learning\\Crop Recommendation System\\Fertilizer Prediction.csv\")\n",
    "df2.size"
   ]
  },
  {
   "cell_type": "code",
   "execution_count": 3,
<<<<<<< HEAD
   "id": "24f78d48",
=======
   "id": "5194960d",
>>>>>>> 102f86fab59c8be60a1f25ba7a540b8787acc933
   "metadata": {},
   "outputs": [
    {
     "data": {
      "text/html": [
       "<div>\n",
       "<style scoped>\n",
       "    .dataframe tbody tr th:only-of-type {\n",
       "        vertical-align: middle;\n",
       "    }\n",
       "\n",
       "    .dataframe tbody tr th {\n",
       "        vertical-align: top;\n",
       "    }\n",
       "\n",
       "    .dataframe thead th {\n",
       "        text-align: right;\n",
       "    }\n",
       "</style>\n",
       "<table border=\"1\" class=\"dataframe\">\n",
       "  <thead>\n",
       "    <tr style=\"text-align: right;\">\n",
       "      <th></th>\n",
       "      <th>Temparature</th>\n",
       "      <th>Humidity</th>\n",
       "      <th>Moisture</th>\n",
       "      <th>Soil Type</th>\n",
       "      <th>Crop Type</th>\n",
       "      <th>Nitrogen</th>\n",
       "      <th>Potassium</th>\n",
       "      <th>Phosphorous</th>\n",
       "      <th>Fertilizer Name</th>\n",
       "    </tr>\n",
       "  </thead>\n",
       "  <tbody>\n",
       "    <tr>\n",
       "      <th>0</th>\n",
       "      <td>26</td>\n",
       "      <td>52</td>\n",
       "      <td>38</td>\n",
       "      <td>Sandy</td>\n",
       "      <td>Maize</td>\n",
       "      <td>37</td>\n",
       "      <td>0</td>\n",
       "      <td>0</td>\n",
       "      <td>Urea</td>\n",
       "    </tr>\n",
       "    <tr>\n",
       "      <th>1</th>\n",
       "      <td>29</td>\n",
       "      <td>52</td>\n",
       "      <td>45</td>\n",
       "      <td>Loamy</td>\n",
       "      <td>Sugarcane</td>\n",
       "      <td>12</td>\n",
       "      <td>0</td>\n",
       "      <td>36</td>\n",
       "      <td>DAP</td>\n",
       "    </tr>\n",
       "    <tr>\n",
       "      <th>2</th>\n",
       "      <td>34</td>\n",
       "      <td>65</td>\n",
       "      <td>62</td>\n",
       "      <td>Black</td>\n",
       "      <td>Cotton</td>\n",
       "      <td>7</td>\n",
       "      <td>9</td>\n",
       "      <td>30</td>\n",
       "      <td>14-35-14</td>\n",
       "    </tr>\n",
       "    <tr>\n",
       "      <th>3</th>\n",
       "      <td>32</td>\n",
       "      <td>62</td>\n",
       "      <td>34</td>\n",
       "      <td>Red</td>\n",
       "      <td>Tobacco</td>\n",
       "      <td>22</td>\n",
       "      <td>0</td>\n",
       "      <td>20</td>\n",
       "      <td>28-28</td>\n",
       "    </tr>\n",
       "    <tr>\n",
       "      <th>4</th>\n",
       "      <td>28</td>\n",
       "      <td>54</td>\n",
       "      <td>46</td>\n",
       "      <td>Clayey</td>\n",
       "      <td>Paddy</td>\n",
       "      <td>35</td>\n",
       "      <td>0</td>\n",
       "      <td>0</td>\n",
       "      <td>Urea</td>\n",
       "    </tr>\n",
       "  </tbody>\n",
       "</table>\n",
       "</div>"
      ],
      "text/plain": [
       "   Temparature  Humidity   Moisture Soil Type  Crop Type  Nitrogen  Potassium  \\\n",
       "0           26         52        38     Sandy      Maize        37          0   \n",
       "1           29         52        45     Loamy  Sugarcane        12          0   \n",
       "2           34         65        62     Black     Cotton         7          9   \n",
       "3           32         62        34       Red    Tobacco        22          0   \n",
       "4           28         54        46    Clayey      Paddy        35          0   \n",
       "\n",
       "   Phosphorous Fertilizer Name  \n",
       "0            0            Urea  \n",
       "1           36             DAP  \n",
       "2           30        14-35-14  \n",
       "3           20           28-28  \n",
       "4            0            Urea  "
      ]
     },
     "execution_count": 3,
     "metadata": {},
     "output_type": "execute_result"
    }
   ],
   "source": [
    "df2.head()"
   ]
  },
  {
   "cell_type": "code",
<<<<<<< HEAD
   "execution_count": 21,
   "id": "4f748553",
=======
   "execution_count": 19,
   "id": "3364d416",
>>>>>>> 102f86fab59c8be60a1f25ba7a540b8787acc933
   "metadata": {},
   "outputs": [
    {
     "data": {
      "text/html": [
       "<div>\n",
       "<style scoped>\n",
       "    .dataframe tbody tr th:only-of-type {\n",
       "        vertical-align: middle;\n",
       "    }\n",
       "\n",
       "    .dataframe tbody tr th {\n",
       "        vertical-align: top;\n",
       "    }\n",
       "\n",
       "    .dataframe thead th {\n",
       "        text-align: right;\n",
       "    }\n",
       "</style>\n",
       "<table border=\"1\" class=\"dataframe\">\n",
       "  <thead>\n",
       "    <tr style=\"text-align: right;\">\n",
       "      <th></th>\n",
       "      <th>Temparature</th>\n",
       "      <th>Humidity</th>\n",
       "      <th>Moisture</th>\n",
       "      <th>Nitrogen</th>\n",
       "      <th>Potassium</th>\n",
       "      <th>Phosphorous</th>\n",
       "      <th>New_Soil_type</th>\n",
       "      <th>New_Crop_type</th>\n",
       "    </tr>\n",
       "  </thead>\n",
       "  <tbody>\n",
       "    <tr>\n",
       "      <th>count</th>\n",
       "      <td>99.000000</td>\n",
       "      <td>99.000000</td>\n",
       "      <td>99.000000</td>\n",
       "      <td>99.000000</td>\n",
       "      <td>99.000000</td>\n",
       "      <td>99.000000</td>\n",
       "      <td>99.000000</td>\n",
       "      <td>99.000000</td>\n",
       "    </tr>\n",
       "    <tr>\n",
       "      <th>mean</th>\n",
       "      <td>30.282828</td>\n",
       "      <td>59.151515</td>\n",
       "      <td>43.181818</td>\n",
       "      <td>18.909091</td>\n",
       "      <td>3.383838</td>\n",
       "      <td>18.606061</td>\n",
       "      <td>2.010101</td>\n",
       "      <td>5.151515</td>\n",
       "    </tr>\n",
       "    <tr>\n",
       "      <th>std</th>\n",
       "      <td>3.502304</td>\n",
       "      <td>5.840331</td>\n",
       "      <td>11.271568</td>\n",
       "      <td>11.599693</td>\n",
       "      <td>5.814667</td>\n",
       "      <td>13.476978</td>\n",
       "      <td>1.410565</td>\n",
       "      <td>3.140790</td>\n",
       "    </tr>\n",
       "    <tr>\n",
       "      <th>min</th>\n",
       "      <td>25.000000</td>\n",
       "      <td>50.000000</td>\n",
       "      <td>25.000000</td>\n",
       "      <td>4.000000</td>\n",
       "      <td>0.000000</td>\n",
       "      <td>0.000000</td>\n",
       "      <td>0.000000</td>\n",
       "      <td>0.000000</td>\n",
       "    </tr>\n",
       "    <tr>\n",
       "      <th>25%</th>\n",
       "      <td>28.000000</td>\n",
       "      <td>54.000000</td>\n",
       "      <td>34.000000</td>\n",
       "      <td>10.000000</td>\n",
       "      <td>0.000000</td>\n",
       "      <td>9.000000</td>\n",
       "      <td>1.000000</td>\n",
       "      <td>2.000000</td>\n",
       "    </tr>\n",
       "    <tr>\n",
       "      <th>50%</th>\n",
       "      <td>30.000000</td>\n",
       "      <td>60.000000</td>\n",
       "      <td>41.000000</td>\n",
       "      <td>13.000000</td>\n",
       "      <td>0.000000</td>\n",
       "      <td>19.000000</td>\n",
       "      <td>2.000000</td>\n",
       "      <td>5.000000</td>\n",
       "    </tr>\n",
       "    <tr>\n",
       "      <th>75%</th>\n",
       "      <td>33.000000</td>\n",
       "      <td>64.000000</td>\n",
       "      <td>50.500000</td>\n",
       "      <td>24.000000</td>\n",
       "      <td>7.500000</td>\n",
       "      <td>30.000000</td>\n",
       "      <td>3.000000</td>\n",
       "      <td>8.000000</td>\n",
       "    </tr>\n",
       "    <tr>\n",
       "      <th>max</th>\n",
       "      <td>38.000000</td>\n",
       "      <td>72.000000</td>\n",
       "      <td>65.000000</td>\n",
       "      <td>42.000000</td>\n",
       "      <td>19.000000</td>\n",
       "      <td>42.000000</td>\n",
       "      <td>4.000000</td>\n",
       "      <td>10.000000</td>\n",
       "    </tr>\n",
       "  </tbody>\n",
       "</table>\n",
       "</div>"
      ],
      "text/plain": [
       "       Temparature  Humidity    Moisture   Nitrogen  Potassium  Phosphorous  \\\n",
       "count    99.000000  99.000000  99.000000  99.000000  99.000000    99.000000   \n",
       "mean     30.282828  59.151515  43.181818  18.909091   3.383838    18.606061   \n",
       "std       3.502304   5.840331  11.271568  11.599693   5.814667    13.476978   \n",
       "min      25.000000  50.000000  25.000000   4.000000   0.000000     0.000000   \n",
       "25%      28.000000  54.000000  34.000000  10.000000   0.000000     9.000000   \n",
       "50%      30.000000  60.000000  41.000000  13.000000   0.000000    19.000000   \n",
       "75%      33.000000  64.000000  50.500000  24.000000   7.500000    30.000000   \n",
       "max      38.000000  72.000000  65.000000  42.000000  19.000000    42.000000   \n",
       "\n",
       "       New_Soil_type  New_Crop_type  \n",
       "count      99.000000      99.000000  \n",
       "mean        2.010101       5.151515  \n",
       "std         1.410565       3.140790  \n",
       "min         0.000000       0.000000  \n",
       "25%         1.000000       2.000000  \n",
       "50%         2.000000       5.000000  \n",
       "75%         3.000000       8.000000  \n",
       "max         4.000000      10.000000  "
      ]
     },
<<<<<<< HEAD
     "execution_count": 21,
=======
     "execution_count": 19,
>>>>>>> 102f86fab59c8be60a1f25ba7a540b8787acc933
     "metadata": {},
     "output_type": "execute_result"
    }
   ],
   "source": [
<<<<<<< HEAD
    "df2.describe()"
=======
    "df3.describe()"
>>>>>>> 102f86fab59c8be60a1f25ba7a540b8787acc933
   ]
  },
  {
   "cell_type": "code",
<<<<<<< HEAD
   "execution_count": 5,
   "id": "4d0ac019",
=======
   "execution_count": 4,
   "id": "5fa942f3",
>>>>>>> 102f86fab59c8be60a1f25ba7a540b8787acc933
   "metadata": {},
   "outputs": [
    {
     "data": {
      "text/plain": [
       "array(['Maize', 'Sugarcane', 'Cotton', 'Tobacco', 'Paddy', 'Barley',\n",
       "       'Wheat', 'Millets', 'Oil seeds', 'Pulses', 'Ground Nuts'],\n",
       "      dtype=object)"
      ]
     },
<<<<<<< HEAD
     "execution_count": 5,
=======
     "execution_count": 4,
>>>>>>> 102f86fab59c8be60a1f25ba7a540b8787acc933
     "metadata": {},
     "output_type": "execute_result"
    }
   ],
   "source": [
    "df2['Crop Type'].unique()"
   ]
  },
  {
   "cell_type": "code",
<<<<<<< HEAD
   "execution_count": 6,
   "id": "a2099a71",
=======
   "execution_count": 5,
   "id": "6d6cc542",
>>>>>>> 102f86fab59c8be60a1f25ba7a540b8787acc933
   "metadata": {},
   "outputs": [],
   "source": [
    "from sklearn.ensemble import RandomForestClassifier\n",
    "from sklearn.model_selection import train_test_split\n",
    "from sklearn.preprocessing import LabelEncoder"
   ]
  },
  {
   "cell_type": "code",
<<<<<<< HEAD
   "execution_count": 7,
   "id": "61d47bfa",
=======
   "execution_count": 6,
   "id": "fe9849b4",
>>>>>>> 102f86fab59c8be60a1f25ba7a540b8787acc933
   "metadata": {},
   "outputs": [
    {
     "data": {
      "text/html": [
       "<div>\n",
       "<style scoped>\n",
       "    .dataframe tbody tr th:only-of-type {\n",
       "        vertical-align: middle;\n",
       "    }\n",
       "\n",
       "    .dataframe tbody tr th {\n",
       "        vertical-align: top;\n",
       "    }\n",
       "\n",
       "    .dataframe thead th {\n",
       "        text-align: right;\n",
       "    }\n",
       "</style>\n",
       "<table border=\"1\" class=\"dataframe\">\n",
       "  <thead>\n",
       "    <tr style=\"text-align: right;\">\n",
       "      <th></th>\n",
       "      <th>Temparature</th>\n",
       "      <th>Humidity</th>\n",
       "      <th>Moisture</th>\n",
       "      <th>Soil Type</th>\n",
       "      <th>Crop Type</th>\n",
       "      <th>Nitrogen</th>\n",
       "      <th>Potassium</th>\n",
       "      <th>Phosphorous</th>\n",
       "      <th>Fertilizer Name</th>\n",
       "      <th>New_Soil_type</th>\n",
       "    </tr>\n",
       "  </thead>\n",
       "  <tbody>\n",
       "    <tr>\n",
       "      <th>0</th>\n",
       "      <td>26</td>\n",
       "      <td>52</td>\n",
       "      <td>38</td>\n",
       "      <td>Sandy</td>\n",
       "      <td>Maize</td>\n",
       "      <td>37</td>\n",
       "      <td>0</td>\n",
       "      <td>0</td>\n",
       "      <td>Urea</td>\n",
       "      <td>4</td>\n",
       "    </tr>\n",
       "    <tr>\n",
       "      <th>1</th>\n",
       "      <td>29</td>\n",
       "      <td>52</td>\n",
       "      <td>45</td>\n",
       "      <td>Loamy</td>\n",
       "      <td>Sugarcane</td>\n",
       "      <td>12</td>\n",
       "      <td>0</td>\n",
       "      <td>36</td>\n",
       "      <td>DAP</td>\n",
       "      <td>2</td>\n",
       "    </tr>\n",
       "    <tr>\n",
       "      <th>2</th>\n",
       "      <td>34</td>\n",
       "      <td>65</td>\n",
       "      <td>62</td>\n",
       "      <td>Black</td>\n",
       "      <td>Cotton</td>\n",
       "      <td>7</td>\n",
       "      <td>9</td>\n",
       "      <td>30</td>\n",
       "      <td>14-35-14</td>\n",
       "      <td>0</td>\n",
       "    </tr>\n",
       "    <tr>\n",
       "      <th>3</th>\n",
       "      <td>32</td>\n",
       "      <td>62</td>\n",
       "      <td>34</td>\n",
       "      <td>Red</td>\n",
       "      <td>Tobacco</td>\n",
       "      <td>22</td>\n",
       "      <td>0</td>\n",
       "      <td>20</td>\n",
       "      <td>28-28</td>\n",
       "      <td>3</td>\n",
       "    </tr>\n",
       "    <tr>\n",
       "      <th>4</th>\n",
       "      <td>28</td>\n",
       "      <td>54</td>\n",
       "      <td>46</td>\n",
       "      <td>Clayey</td>\n",
       "      <td>Paddy</td>\n",
       "      <td>35</td>\n",
       "      <td>0</td>\n",
       "      <td>0</td>\n",
       "      <td>Urea</td>\n",
       "      <td>1</td>\n",
       "    </tr>\n",
       "  </tbody>\n",
       "</table>\n",
       "</div>"
      ],
      "text/plain": [
       "   Temparature  Humidity   Moisture Soil Type  Crop Type  Nitrogen  Potassium  \\\n",
       "0           26         52        38     Sandy      Maize        37          0   \n",
       "1           29         52        45     Loamy  Sugarcane        12          0   \n",
       "2           34         65        62     Black     Cotton         7          9   \n",
       "3           32         62        34       Red    Tobacco        22          0   \n",
       "4           28         54        46    Clayey      Paddy        35          0   \n",
       "\n",
       "   Phosphorous Fertilizer Name  New_Soil_type  \n",
       "0            0            Urea              4  \n",
       "1           36             DAP              2  \n",
       "2           30        14-35-14              0  \n",
       "3           20           28-28              3  \n",
       "4            0            Urea              1  "
      ]
     },
<<<<<<< HEAD
     "execution_count": 7,
=======
     "execution_count": 6,
>>>>>>> 102f86fab59c8be60a1f25ba7a540b8787acc933
     "metadata": {},
     "output_type": "execute_result"
    }
   ],
   "source": [
    "le = LabelEncoder()\n",
    "df2['New_Soil_type'] = le.fit_transform(df2['Soil Type'])\n",
    "df2.head()"
   ]
  },
  {
   "cell_type": "code",
<<<<<<< HEAD
   "execution_count": 8,
   "id": "36a4ad18",
=======
   "execution_count": 7,
   "id": "21e1a582",
>>>>>>> 102f86fab59c8be60a1f25ba7a540b8787acc933
   "metadata": {},
   "outputs": [],
   "source": [
    "df2['New_Crop_type'] = le.fit_transform(df2['Crop Type'])"
   ]
  },
  {
   "cell_type": "code",
<<<<<<< HEAD
   "execution_count": 9,
   "id": "3365ee70",
=======
   "execution_count": 8,
   "id": "c1690613",
>>>>>>> 102f86fab59c8be60a1f25ba7a540b8787acc933
   "metadata": {},
   "outputs": [
    {
     "data": {
      "text/html": [
       "<div>\n",
       "<style scoped>\n",
       "    .dataframe tbody tr th:only-of-type {\n",
       "        vertical-align: middle;\n",
       "    }\n",
       "\n",
       "    .dataframe tbody tr th {\n",
       "        vertical-align: top;\n",
       "    }\n",
       "\n",
       "    .dataframe thead th {\n",
       "        text-align: right;\n",
       "    }\n",
       "</style>\n",
       "<table border=\"1\" class=\"dataframe\">\n",
       "  <thead>\n",
       "    <tr style=\"text-align: right;\">\n",
       "      <th></th>\n",
       "      <th>Temparature</th>\n",
       "      <th>Humidity</th>\n",
       "      <th>Moisture</th>\n",
       "      <th>Soil Type</th>\n",
       "      <th>Crop Type</th>\n",
       "      <th>Nitrogen</th>\n",
       "      <th>Potassium</th>\n",
       "      <th>Phosphorous</th>\n",
       "      <th>Fertilizer Name</th>\n",
       "      <th>New_Soil_type</th>\n",
       "      <th>New_Crop_type</th>\n",
       "    </tr>\n",
       "  </thead>\n",
       "  <tbody>\n",
       "    <tr>\n",
       "      <th>0</th>\n",
       "      <td>26</td>\n",
       "      <td>52</td>\n",
       "      <td>38</td>\n",
       "      <td>Sandy</td>\n",
       "      <td>Maize</td>\n",
       "      <td>37</td>\n",
       "      <td>0</td>\n",
       "      <td>0</td>\n",
       "      <td>Urea</td>\n",
       "      <td>4</td>\n",
       "      <td>3</td>\n",
       "    </tr>\n",
       "    <tr>\n",
       "      <th>1</th>\n",
       "      <td>29</td>\n",
       "      <td>52</td>\n",
       "      <td>45</td>\n",
       "      <td>Loamy</td>\n",
       "      <td>Sugarcane</td>\n",
       "      <td>12</td>\n",
       "      <td>0</td>\n",
       "      <td>36</td>\n",
       "      <td>DAP</td>\n",
       "      <td>2</td>\n",
       "      <td>8</td>\n",
       "    </tr>\n",
       "    <tr>\n",
       "      <th>2</th>\n",
       "      <td>34</td>\n",
       "      <td>65</td>\n",
       "      <td>62</td>\n",
       "      <td>Black</td>\n",
       "      <td>Cotton</td>\n",
       "      <td>7</td>\n",
       "      <td>9</td>\n",
       "      <td>30</td>\n",
       "      <td>14-35-14</td>\n",
       "      <td>0</td>\n",
       "      <td>1</td>\n",
       "    </tr>\n",
       "    <tr>\n",
       "      <th>3</th>\n",
       "      <td>32</td>\n",
       "      <td>62</td>\n",
       "      <td>34</td>\n",
       "      <td>Red</td>\n",
       "      <td>Tobacco</td>\n",
       "      <td>22</td>\n",
       "      <td>0</td>\n",
       "      <td>20</td>\n",
       "      <td>28-28</td>\n",
       "      <td>3</td>\n",
       "      <td>9</td>\n",
       "    </tr>\n",
       "    <tr>\n",
       "      <th>4</th>\n",
       "      <td>28</td>\n",
       "      <td>54</td>\n",
       "      <td>46</td>\n",
       "      <td>Clayey</td>\n",
       "      <td>Paddy</td>\n",
       "      <td>35</td>\n",
       "      <td>0</td>\n",
       "      <td>0</td>\n",
       "      <td>Urea</td>\n",
       "      <td>1</td>\n",
       "      <td>6</td>\n",
       "    </tr>\n",
       "  </tbody>\n",
       "</table>\n",
       "</div>"
      ],
      "text/plain": [
       "   Temparature  Humidity   Moisture Soil Type  Crop Type  Nitrogen  Potassium  \\\n",
       "0           26         52        38     Sandy      Maize        37          0   \n",
       "1           29         52        45     Loamy  Sugarcane        12          0   \n",
       "2           34         65        62     Black     Cotton         7          9   \n",
       "3           32         62        34       Red    Tobacco        22          0   \n",
       "4           28         54        46    Clayey      Paddy        35          0   \n",
       "\n",
       "   Phosphorous Fertilizer Name  New_Soil_type  New_Crop_type  \n",
       "0            0            Urea              4              3  \n",
       "1           36             DAP              2              8  \n",
       "2           30        14-35-14              0              1  \n",
       "3           20           28-28              3              9  \n",
       "4            0            Urea              1              6  "
      ]
     },
<<<<<<< HEAD
     "execution_count": 9,
=======
     "execution_count": 8,
>>>>>>> 102f86fab59c8be60a1f25ba7a540b8787acc933
     "metadata": {},
     "output_type": "execute_result"
    }
   ],
   "source": [
    "df2.head()"
   ]
  },
  {
   "cell_type": "code",
<<<<<<< HEAD
   "execution_count": 10,
   "id": "bf6375c3",
=======
   "execution_count": 9,
   "id": "7a7afaa1",
>>>>>>> 102f86fab59c8be60a1f25ba7a540b8787acc933
   "metadata": {},
   "outputs": [],
   "source": [
    "df3 = df2"
   ]
  },
  {
   "cell_type": "code",
<<<<<<< HEAD
   "execution_count": 11,
   "id": "b5839e33",
=======
   "execution_count": 10,
   "id": "558985ca",
>>>>>>> 102f86fab59c8be60a1f25ba7a540b8787acc933
   "metadata": {},
   "outputs": [
    {
     "data": {
      "text/html": [
       "<div>\n",
       "<style scoped>\n",
       "    .dataframe tbody tr th:only-of-type {\n",
       "        vertical-align: middle;\n",
       "    }\n",
       "\n",
       "    .dataframe tbody tr th {\n",
       "        vertical-align: top;\n",
       "    }\n",
       "\n",
       "    .dataframe thead th {\n",
       "        text-align: right;\n",
       "    }\n",
       "</style>\n",
       "<table border=\"1\" class=\"dataframe\">\n",
       "  <thead>\n",
       "    <tr style=\"text-align: right;\">\n",
       "      <th></th>\n",
       "      <th>Temparature</th>\n",
       "      <th>Humidity</th>\n",
       "      <th>Moisture</th>\n",
       "      <th>Nitrogen</th>\n",
       "      <th>Potassium</th>\n",
       "      <th>Phosphorous</th>\n",
       "      <th>Fertilizer Name</th>\n",
       "      <th>New_Soil_type</th>\n",
       "      <th>New_Crop_type</th>\n",
       "    </tr>\n",
       "  </thead>\n",
       "  <tbody>\n",
       "    <tr>\n",
       "      <th>0</th>\n",
       "      <td>26</td>\n",
       "      <td>52</td>\n",
       "      <td>38</td>\n",
       "      <td>37</td>\n",
       "      <td>0</td>\n",
       "      <td>0</td>\n",
       "      <td>Urea</td>\n",
       "      <td>4</td>\n",
       "      <td>3</td>\n",
       "    </tr>\n",
       "    <tr>\n",
       "      <th>1</th>\n",
       "      <td>29</td>\n",
       "      <td>52</td>\n",
       "      <td>45</td>\n",
       "      <td>12</td>\n",
       "      <td>0</td>\n",
       "      <td>36</td>\n",
       "      <td>DAP</td>\n",
       "      <td>2</td>\n",
       "      <td>8</td>\n",
       "    </tr>\n",
       "    <tr>\n",
       "      <th>2</th>\n",
       "      <td>34</td>\n",
       "      <td>65</td>\n",
       "      <td>62</td>\n",
       "      <td>7</td>\n",
       "      <td>9</td>\n",
       "      <td>30</td>\n",
       "      <td>14-35-14</td>\n",
       "      <td>0</td>\n",
       "      <td>1</td>\n",
       "    </tr>\n",
       "    <tr>\n",
       "      <th>3</th>\n",
       "      <td>32</td>\n",
       "      <td>62</td>\n",
       "      <td>34</td>\n",
       "      <td>22</td>\n",
       "      <td>0</td>\n",
       "      <td>20</td>\n",
       "      <td>28-28</td>\n",
       "      <td>3</td>\n",
       "      <td>9</td>\n",
       "    </tr>\n",
       "    <tr>\n",
       "      <th>4</th>\n",
       "      <td>28</td>\n",
       "      <td>54</td>\n",
       "      <td>46</td>\n",
       "      <td>35</td>\n",
       "      <td>0</td>\n",
       "      <td>0</td>\n",
       "      <td>Urea</td>\n",
       "      <td>1</td>\n",
       "      <td>6</td>\n",
       "    </tr>\n",
       "  </tbody>\n",
       "</table>\n",
       "</div>"
      ],
      "text/plain": [
       "   Temparature  Humidity   Moisture  Nitrogen  Potassium  Phosphorous  \\\n",
       "0           26         52        38        37          0            0   \n",
       "1           29         52        45        12          0           36   \n",
       "2           34         65        62         7          9           30   \n",
       "3           32         62        34        22          0           20   \n",
       "4           28         54        46        35          0            0   \n",
       "\n",
       "  Fertilizer Name  New_Soil_type  New_Crop_type  \n",
       "0            Urea              4              3  \n",
       "1             DAP              2              8  \n",
       "2        14-35-14              0              1  \n",
       "3           28-28              3              9  \n",
       "4            Urea              1              6  "
      ]
     },
<<<<<<< HEAD
     "execution_count": 11,
=======
     "execution_count": 10,
>>>>>>> 102f86fab59c8be60a1f25ba7a540b8787acc933
     "metadata": {},
     "output_type": "execute_result"
    }
   ],
   "source": [
    "df3 = df3.drop(['Soil Type','Crop Type'],axis=1)\n",
    "df3.head()"
   ]
  },
  {
   "cell_type": "code",
<<<<<<< HEAD
   "execution_count": 12,
   "id": "107229a1",
=======
   "execution_count": 11,
   "id": "1f4cacff",
>>>>>>> 102f86fab59c8be60a1f25ba7a540b8787acc933
   "metadata": {},
   "outputs": [],
   "source": [
    "x = df3.drop(['Fertilizer Name'],axis=1)\n",
    "y = df3['Fertilizer Name']"
   ]
  },
  {
   "cell_type": "code",
<<<<<<< HEAD
   "execution_count": 13,
   "id": "72376be0",
=======
   "execution_count": 12,
   "id": "d70059a1",
>>>>>>> 102f86fab59c8be60a1f25ba7a540b8787acc933
   "metadata": {},
   "outputs": [],
   "source": [
    "x_train,x_test,y_train,y_test = train_test_split(x,y,test_size=0.25)"
   ]
  },
  {
   "cell_type": "code",
<<<<<<< HEAD
   "execution_count": 14,
   "id": "91b2b706",
=======
   "execution_count": 13,
   "id": "9216e035",
>>>>>>> 102f86fab59c8be60a1f25ba7a540b8787acc933
   "metadata": {},
   "outputs": [],
   "source": [
    "model = RandomForestClassifier()"
   ]
  },
  {
   "cell_type": "code",
<<<<<<< HEAD
   "execution_count": 15,
   "id": "1c88a44e",
=======
   "execution_count": 14,
   "id": "f81dc0d3",
>>>>>>> 102f86fab59c8be60a1f25ba7a540b8787acc933
   "metadata": {},
   "outputs": [
    {
     "data": {
      "text/html": [
       "<style>#sk-container-id-1 {color: black;}#sk-container-id-1 pre{padding: 0;}#sk-container-id-1 div.sk-toggleable {background-color: white;}#sk-container-id-1 label.sk-toggleable__label {cursor: pointer;display: block;width: 100%;margin-bottom: 0;padding: 0.3em;box-sizing: border-box;text-align: center;}#sk-container-id-1 label.sk-toggleable__label-arrow:before {content: \"▸\";float: left;margin-right: 0.25em;color: #696969;}#sk-container-id-1 label.sk-toggleable__label-arrow:hover:before {color: black;}#sk-container-id-1 div.sk-estimator:hover label.sk-toggleable__label-arrow:before {color: black;}#sk-container-id-1 div.sk-toggleable__content {max-height: 0;max-width: 0;overflow: hidden;text-align: left;background-color: #f0f8ff;}#sk-container-id-1 div.sk-toggleable__content pre {margin: 0.2em;color: black;border-radius: 0.25em;background-color: #f0f8ff;}#sk-container-id-1 input.sk-toggleable__control:checked~div.sk-toggleable__content {max-height: 200px;max-width: 100%;overflow: auto;}#sk-container-id-1 input.sk-toggleable__control:checked~label.sk-toggleable__label-arrow:before {content: \"▾\";}#sk-container-id-1 div.sk-estimator input.sk-toggleable__control:checked~label.sk-toggleable__label {background-color: #d4ebff;}#sk-container-id-1 div.sk-label input.sk-toggleable__control:checked~label.sk-toggleable__label {background-color: #d4ebff;}#sk-container-id-1 input.sk-hidden--visually {border: 0;clip: rect(1px 1px 1px 1px);clip: rect(1px, 1px, 1px, 1px);height: 1px;margin: -1px;overflow: hidden;padding: 0;position: absolute;width: 1px;}#sk-container-id-1 div.sk-estimator {font-family: monospace;background-color: #f0f8ff;border: 1px dotted black;border-radius: 0.25em;box-sizing: border-box;margin-bottom: 0.5em;}#sk-container-id-1 div.sk-estimator:hover {background-color: #d4ebff;}#sk-container-id-1 div.sk-parallel-item::after {content: \"\";width: 100%;border-bottom: 1px solid gray;flex-grow: 1;}#sk-container-id-1 div.sk-label:hover label.sk-toggleable__label {background-color: #d4ebff;}#sk-container-id-1 div.sk-serial::before {content: \"\";position: absolute;border-left: 1px solid gray;box-sizing: border-box;top: 0;bottom: 0;left: 50%;z-index: 0;}#sk-container-id-1 div.sk-serial {display: flex;flex-direction: column;align-items: center;background-color: white;padding-right: 0.2em;padding-left: 0.2em;position: relative;}#sk-container-id-1 div.sk-item {position: relative;z-index: 1;}#sk-container-id-1 div.sk-parallel {display: flex;align-items: stretch;justify-content: center;background-color: white;position: relative;}#sk-container-id-1 div.sk-item::before, #sk-container-id-1 div.sk-parallel-item::before {content: \"\";position: absolute;border-left: 1px solid gray;box-sizing: border-box;top: 0;bottom: 0;left: 50%;z-index: -1;}#sk-container-id-1 div.sk-parallel-item {display: flex;flex-direction: column;z-index: 1;position: relative;background-color: white;}#sk-container-id-1 div.sk-parallel-item:first-child::after {align-self: flex-end;width: 50%;}#sk-container-id-1 div.sk-parallel-item:last-child::after {align-self: flex-start;width: 50%;}#sk-container-id-1 div.sk-parallel-item:only-child::after {width: 0;}#sk-container-id-1 div.sk-dashed-wrapped {border: 1px dashed gray;margin: 0 0.4em 0.5em 0.4em;box-sizing: border-box;padding-bottom: 0.4em;background-color: white;}#sk-container-id-1 div.sk-label label {font-family: monospace;font-weight: bold;display: inline-block;line-height: 1.2em;}#sk-container-id-1 div.sk-label-container {text-align: center;}#sk-container-id-1 div.sk-container {/* jupyter's `normalize.less` sets `[hidden] { display: none; }` but bootstrap.min.css set `[hidden] { display: none !important; }` so we also need the `!important` here to be able to override the default hidden behavior on the sphinx rendered scikit-learn.org. See: https://github.com/scikit-learn/scikit-learn/issues/21755 */display: inline-block !important;position: relative;}#sk-container-id-1 div.sk-text-repr-fallback {display: none;}</style><div id=\"sk-container-id-1\" class=\"sk-top-container\"><div class=\"sk-text-repr-fallback\"><pre>RandomForestClassifier()</pre><b>In a Jupyter environment, please rerun this cell to show the HTML representation or trust the notebook. <br />On GitHub, the HTML representation is unable to render, please try loading this page with nbviewer.org.</b></div><div class=\"sk-container\" hidden><div class=\"sk-item\"><div class=\"sk-estimator sk-toggleable\"><input class=\"sk-toggleable__control sk-hidden--visually\" id=\"sk-estimator-id-1\" type=\"checkbox\" checked><label for=\"sk-estimator-id-1\" class=\"sk-toggleable__label sk-toggleable__label-arrow\">RandomForestClassifier</label><div class=\"sk-toggleable__content\"><pre>RandomForestClassifier()</pre></div></div></div></div></div>"
      ],
      "text/plain": [
       "RandomForestClassifier()"
      ]
     },
<<<<<<< HEAD
     "execution_count": 15,
=======
     "execution_count": 14,
>>>>>>> 102f86fab59c8be60a1f25ba7a540b8787acc933
     "metadata": {},
     "output_type": "execute_result"
    }
   ],
   "source": [
    "model.fit(x_train,y_train)"
   ]
  },
  {
   "cell_type": "code",
<<<<<<< HEAD
   "execution_count": 16,
   "id": "7e0ec99f",
=======
   "execution_count": 15,
   "id": "157ede91",
>>>>>>> 102f86fab59c8be60a1f25ba7a540b8787acc933
   "metadata": {},
   "outputs": [
    {
     "data": {
      "text/plain": [
       "1.0"
      ]
     },
<<<<<<< HEAD
     "execution_count": 16,
=======
     "execution_count": 15,
>>>>>>> 102f86fab59c8be60a1f25ba7a540b8787acc933
     "metadata": {},
     "output_type": "execute_result"
    }
   ],
   "source": [
    "model.score(x_train,y_train)"
   ]
  },
  {
   "cell_type": "code",
<<<<<<< HEAD
   "execution_count": 17,
   "id": "1789d888",
=======
   "execution_count": 16,
   "id": "85673d9d",
>>>>>>> 102f86fab59c8be60a1f25ba7a540b8787acc933
   "metadata": {},
   "outputs": [
    {
     "data": {
      "text/plain": [
<<<<<<< HEAD
       "array(['17-17-17', '28-28', '28-28', '14-35-14', 'DAP', 'Urea', '28-28',\n",
       "       'Urea', '28-28', '20-20', 'Urea', '28-28', '28-28', '20-20',\n",
       "       'Urea', 'DAP', '17-17-17', 'Urea', '17-17-17', '14-35-14', '28-28',\n",
       "       '20-20', 'Urea', 'Urea', '10-26-26'], dtype=object)"
      ]
     },
     "execution_count": 17,
=======
       "array(['28-28', '14-35-14', '20-20', 'Urea', '17-17-17', 'DAP', 'DAP',\n",
       "       'Urea', 'Urea', '20-20', 'DAP', '14-35-14', '20-20', '10-26-26',\n",
       "       '28-28', '28-28', '14-35-14', 'Urea', '17-17-17', '17-17-17',\n",
       "       'DAP', 'Urea', 'Urea', 'DAP', 'Urea'], dtype=object)"
      ]
     },
     "execution_count": 16,
>>>>>>> 102f86fab59c8be60a1f25ba7a540b8787acc933
     "metadata": {},
     "output_type": "execute_result"
    }
   ],
   "source": [
    "model.predict(x_test)"
   ]
  },
  {
   "cell_type": "code",
<<<<<<< HEAD
   "execution_count": 18,
   "id": "282b1102",
=======
   "execution_count": 20,
   "id": "3f541570",
>>>>>>> 102f86fab59c8be60a1f25ba7a540b8787acc933
   "metadata": {},
   "outputs": [],
   "source": [
    "from sklearn.metrics import confusion_matrix\n",
    "y_pred = model.predict(x_test)\n",
    "cm = confusion_matrix(y_pred,y_test)"
   ]
  },
  {
   "cell_type": "code",
<<<<<<< HEAD
   "execution_count": 19,
   "id": "2129f1c5",
   "metadata": {},
   "outputs": [
    {
     "data": {
      "text/plain": [
       "Text(50.722222222222214, 0.5, 'Tested Values')"
      ]
     },
     "execution_count": 19,
     "metadata": {},
     "output_type": "execute_result"
    },
    {
     "data": {
      "image/png": "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",
      "text/plain": [
       "<Figure size 640x480 with 2 Axes>"
      ]
     },
     "metadata": {},
     "output_type": "display_data"
    }
   ],
   "source": [
    "import seaborn as sn\n",
    "import matplotlib.pyplot as plt\n",
    "sn.heatmap(cm,annot=True)\n",
    "plt.xlabel(\"Predicted Values\")\n",
    "plt.ylabel(\"Tested Values\")"
   ]
  },
  {
   "cell_type": "code",
   "execution_count": 22,
   "id": "abac9850",
   "metadata": {},
   "outputs": [
    {
     "data": {
      "text/plain": [
       "array([4, 2, 0, 3, 1])"
      ]
     },
     "execution_count": 22,
     "metadata": {},
     "output_type": "execute_result"
    }
   ],
   "source": [
    "df2['New_Soil_type'].unique()"
   ]
  },
  {
   "cell_type": "code",
   "execution_count": 23,
   "id": "0427304b",
   "metadata": {},
   "outputs": [
    {
     "data": {
      "text/plain": [
       "array(['Sandy', 'Loamy', 'Black', 'Red', 'Clayey'], dtype=object)"
      ]
     },
     "execution_count": 23,
     "metadata": {},
     "output_type": "execute_result"
    }
   ],
   "source": [
    "df2['Soil Type'].unique()"
   ]
  },
  {
   "cell_type": "code",
   "execution_count": 24,
   "id": "13c99e0e",
   "metadata": {},
   "outputs": [
    {
     "data": {
      "text/plain": [
       "array([ 3,  8,  1,  9,  6,  0, 10,  4,  5,  7,  2])"
      ]
     },
     "execution_count": 24,
     "metadata": {},
     "output_type": "execute_result"
    }
   ],
   "source": [
    "df2['New_Crop_type'].unique()"
   ]
  },
  {
   "cell_type": "code",
   "execution_count": 25,
   "id": "b5526d05",
   "metadata": {},
   "outputs": [
    {
     "data": {
      "text/plain": [
       "array(['Maize', 'Sugarcane', 'Cotton', 'Tobacco', 'Paddy', 'Barley',\n",
       "       'Wheat', 'Millets', 'Oil seeds', 'Pulses', 'Ground Nuts'],\n",
       "      dtype=object)"
      ]
     },
     "execution_count": 25,
     "metadata": {},
     "output_type": "execute_result"
    }
   ],
   "source": [
    "df2['Crop Type'].unique()"
   ]
  },
  {
   "cell_type": "code",
   "execution_count": null,
   "id": "c82b8437",
   "metadata": {},
   "outputs": [],
   "source": []
=======
   "execution_count": null,
   "id": "f108bf21",
   "metadata": {},
   "outputs": [],
   "source": [
    "import seaborn as sn\n",
    "sn.heatmap(cm,annot=True)"
   ]
>>>>>>> 102f86fab59c8be60a1f25ba7a540b8787acc933
  }
 ],
 "metadata": {
  "kernelspec": {
   "display_name": "Python 3 (ipykernel)",
   "language": "python",
   "name": "python3"
  },
  "language_info": {
   "codemirror_mode": {
    "name": "ipython",
    "version": 3
   },
   "file_extension": ".py",
   "mimetype": "text/x-python",
   "name": "python",
   "nbconvert_exporter": "python",
   "pygments_lexer": "ipython3",
   "version": "3.11.5"
  }
 },
 "nbformat": 4,
 "nbformat_minor": 5
}
